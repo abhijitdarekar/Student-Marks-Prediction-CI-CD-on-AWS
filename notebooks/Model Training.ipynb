{
 "cells": [
  {
   "cell_type": "markdown",
   "id": "ec8da5da-239c-4964-a7a5-3383620c7340",
   "metadata": {},
   "source": [
    "### Importing Library"
   ]
  },
  {
   "cell_type": "code",
   "execution_count": 66,
   "id": "0764b031-4b96-4980-a0ec-d14b4b8672cb",
   "metadata": {},
   "outputs": [],
   "source": [
    "import numpy as np\n",
    "import pandas as pd\n",
    "\n",
    "from sklearn.tree import DecisionTreeRegressor\n",
    "from sklearn.ensemble import RandomForestRegressor, GradientBoostingRegressor, AdaBoostRegressor\n",
    "from sklearn.neighbors import KNeighborsRegressor\n",
    "from sklearn.linear_model import LinearRegression, Ridge, Lasso\n",
    "from sklearn.svm import SVR\n",
    "\n",
    "from catboost import CatBoostRegressor\n",
    "from xgboost import XGBRegressor\n",
    "\n",
    "from sklearn.metrics import mean_absolute_error, mean_squared_error, r2_score\n",
    "import os \n",
    "\n",
    "import matplotlib.pyplot as plt\n",
    "import seaborn as sns\n",
    "\n",
    "import warnings \n",
    "warnings.filterwarnings(\"ignore\")"
   ]
  },
  {
   "cell_type": "code",
   "execution_count": 6,
   "id": "b1408bb3-afbf-4317-b306-93290cf18b32",
   "metadata": {},
   "outputs": [],
   "source": [
    "df = pd.read_csv(os.path.join(\"data\",\"student.csv\"))"
   ]
  },
  {
   "cell_type": "code",
   "execution_count": 7,
   "id": "43ca1207-213f-43ba-8390-62c1c5bb1f99",
   "metadata": {},
   "outputs": [
    {
     "data": {
      "text/html": [
       "<div>\n",
       "<style scoped>\n",
       "    .dataframe tbody tr th:only-of-type {\n",
       "        vertical-align: middle;\n",
       "    }\n",
       "\n",
       "    .dataframe tbody tr th {\n",
       "        vertical-align: top;\n",
       "    }\n",
       "\n",
       "    .dataframe thead th {\n",
       "        text-align: right;\n",
       "    }\n",
       "</style>\n",
       "<table border=\"1\" class=\"dataframe\">\n",
       "  <thead>\n",
       "    <tr style=\"text-align: right;\">\n",
       "      <th></th>\n",
       "      <th>gender</th>\n",
       "      <th>race_ethnicity</th>\n",
       "      <th>parental_level_of_education</th>\n",
       "      <th>lunch</th>\n",
       "      <th>test_preparation_course</th>\n",
       "      <th>math_score</th>\n",
       "      <th>reading_score</th>\n",
       "      <th>writing_score</th>\n",
       "    </tr>\n",
       "  </thead>\n",
       "  <tbody>\n",
       "    <tr>\n",
       "      <th>0</th>\n",
       "      <td>female</td>\n",
       "      <td>group B</td>\n",
       "      <td>bachelor's degree</td>\n",
       "      <td>standard</td>\n",
       "      <td>none</td>\n",
       "      <td>72</td>\n",
       "      <td>72</td>\n",
       "      <td>74</td>\n",
       "    </tr>\n",
       "    <tr>\n",
       "      <th>1</th>\n",
       "      <td>female</td>\n",
       "      <td>group C</td>\n",
       "      <td>some college</td>\n",
       "      <td>standard</td>\n",
       "      <td>completed</td>\n",
       "      <td>69</td>\n",
       "      <td>90</td>\n",
       "      <td>88</td>\n",
       "    </tr>\n",
       "    <tr>\n",
       "      <th>2</th>\n",
       "      <td>female</td>\n",
       "      <td>group B</td>\n",
       "      <td>master's degree</td>\n",
       "      <td>standard</td>\n",
       "      <td>none</td>\n",
       "      <td>90</td>\n",
       "      <td>95</td>\n",
       "      <td>93</td>\n",
       "    </tr>\n",
       "    <tr>\n",
       "      <th>3</th>\n",
       "      <td>male</td>\n",
       "      <td>group A</td>\n",
       "      <td>associate's degree</td>\n",
       "      <td>free/reduced</td>\n",
       "      <td>none</td>\n",
       "      <td>47</td>\n",
       "      <td>57</td>\n",
       "      <td>44</td>\n",
       "    </tr>\n",
       "    <tr>\n",
       "      <th>4</th>\n",
       "      <td>male</td>\n",
       "      <td>group C</td>\n",
       "      <td>some college</td>\n",
       "      <td>standard</td>\n",
       "      <td>none</td>\n",
       "      <td>76</td>\n",
       "      <td>78</td>\n",
       "      <td>75</td>\n",
       "    </tr>\n",
       "  </tbody>\n",
       "</table>\n",
       "</div>"
      ],
      "text/plain": [
       "   gender race_ethnicity parental_level_of_education         lunch  \\\n",
       "0  female        group B           bachelor's degree      standard   \n",
       "1  female        group C                some college      standard   \n",
       "2  female        group B             master's degree      standard   \n",
       "3    male        group A          associate's degree  free/reduced   \n",
       "4    male        group C                some college      standard   \n",
       "\n",
       "  test_preparation_course  math_score  reading_score  writing_score  \n",
       "0                    none          72             72             74  \n",
       "1               completed          69             90             88  \n",
       "2                    none          90             95             93  \n",
       "3                    none          47             57             44  \n",
       "4                    none          76             78             75  "
      ]
     },
     "execution_count": 7,
     "metadata": {},
     "output_type": "execute_result"
    }
   ],
   "source": [
    "df.head()"
   ]
  },
  {
   "cell_type": "markdown",
   "id": "7d5b6ce0-1313-4518-acd2-24926cc26551",
   "metadata": {},
   "source": [
    "### Independent and Dependent Variables"
   ]
  },
  {
   "cell_type": "code",
   "execution_count": 8,
   "id": "c359cc8f-9c07-4d87-a9bd-15540ebd6074",
   "metadata": {},
   "outputs": [],
   "source": [
    "X = df.drop(\"math_score\",axis=1)\n",
    "y = df['math_score']"
   ]
  },
  {
   "cell_type": "code",
   "execution_count": 16,
   "id": "a4805466-cb41-4337-97ed-6f11fc9a0dd4",
   "metadata": {},
   "outputs": [
    {
     "name": "stdout",
     "output_type": "stream",
     "text": [
      "Total Number of Distinct Catogeries in column gender : 2 which are ['female' 'male']\n",
      "Total Number of Distinct Catogeries in column race_ethnicity : 5 which are ['group B' 'group C' 'group A' 'group D' 'group E']\n",
      "Total Number of Distinct Catogeries in column parental_level_of_education : 6 which are [\"bachelor's degree\" 'some college' \"master's degree\" \"associate's degree\"\n",
      " 'high school' 'some high school']\n",
      "Total Number of Distinct Catogeries in column lunch : 2 which are ['standard' 'free/reduced']\n",
      "Total Number of Distinct Catogeries in column test_preparation_course : 2 which are ['none' 'completed']\n"
     ]
    }
   ],
   "source": [
    "# Total Catogerical Features per Catogerical Columns\n",
    "cato_columns = [column for column in X.columns if X[column].dtype=='O']\n",
    "num_columns = [column for column in X.columns if X[column].dtype!='O']\n",
    "for column in cato_columns:\n",
    "    print(f\"Total Number of Distinct Catogeries in column {column} : {df[column].nunique()} which are {df[column].unique()}\")"
   ]
  },
  {
   "cell_type": "markdown",
   "id": "8698938d-1559-4441-8fa5-e1a216ad725e",
   "metadata": {},
   "source": []
  },
  {
   "cell_type": "code",
   "execution_count": 10,
   "id": "42d2264d-cb73-40aa-a8e3-4b0f4998aa47",
   "metadata": {},
   "outputs": [],
   "source": [
    "# As there less Number per Column, we can go ahead and create One-Hot Encoding for Each feature using pipeline."
   ]
  },
  {
   "cell_type": "markdown",
   "id": "be476efb-798d-4187-b35f-2fa05ed7fe3b",
   "metadata": {},
   "source": [
    "### Feature Engineering"
   ]
  },
  {
   "cell_type": "code",
   "execution_count": 11,
   "id": "6bb0288d-c2db-42a5-bda9-d3890ff0d421",
   "metadata": {},
   "outputs": [],
   "source": [
    "from sklearn.preprocessing import StandardScaler, OneHotEncoder \n",
    "from sklearn.compose import ColumnTransformer"
   ]
  },
  {
   "cell_type": "code",
   "execution_count": 12,
   "id": "8f4b2b0e-832d-4227-8488-9a5e3cb51938",
   "metadata": {},
   "outputs": [],
   "source": [
    "standardScalar = StandardScaler()\n",
    "oneHotEncoder = OneHotEncoder()"
   ]
  },
  {
   "cell_type": "code",
   "execution_count": 17,
   "id": "3bbebe0b-4cd9-4b9e-bce1-aaf0d3f46bcb",
   "metadata": {},
   "outputs": [],
   "source": [
    "processing_pipeline = ColumnTransformer(\n",
    "    [\n",
    "        (\"StandardScalar\",standardScalar,num_columns),\n",
    "        (\"OneHotEncoder\", oneHotEncoder,cato_columns)\n",
    "    ]\n",
    ")"
   ]
  },
  {
   "cell_type": "code",
   "execution_count": 25,
   "id": "e78f2c5d-0e8e-4bb3-a487-400e1e4b071e",
   "metadata": {},
   "outputs": [
    {
     "data": {
      "text/html": [
       "<style>#sk-container-id-1 {color: black;}#sk-container-id-1 pre{padding: 0;}#sk-container-id-1 div.sk-toggleable {background-color: white;}#sk-container-id-1 label.sk-toggleable__label {cursor: pointer;display: block;width: 100%;margin-bottom: 0;padding: 0.3em;box-sizing: border-box;text-align: center;}#sk-container-id-1 label.sk-toggleable__label-arrow:before {content: \"▸\";float: left;margin-right: 0.25em;color: #696969;}#sk-container-id-1 label.sk-toggleable__label-arrow:hover:before {color: black;}#sk-container-id-1 div.sk-estimator:hover label.sk-toggleable__label-arrow:before {color: black;}#sk-container-id-1 div.sk-toggleable__content {max-height: 0;max-width: 0;overflow: hidden;text-align: left;background-color: #f0f8ff;}#sk-container-id-1 div.sk-toggleable__content pre {margin: 0.2em;color: black;border-radius: 0.25em;background-color: #f0f8ff;}#sk-container-id-1 input.sk-toggleable__control:checked~div.sk-toggleable__content {max-height: 200px;max-width: 100%;overflow: auto;}#sk-container-id-1 input.sk-toggleable__control:checked~label.sk-toggleable__label-arrow:before {content: \"▾\";}#sk-container-id-1 div.sk-estimator input.sk-toggleable__control:checked~label.sk-toggleable__label {background-color: #d4ebff;}#sk-container-id-1 div.sk-label input.sk-toggleable__control:checked~label.sk-toggleable__label {background-color: #d4ebff;}#sk-container-id-1 input.sk-hidden--visually {border: 0;clip: rect(1px 1px 1px 1px);clip: rect(1px, 1px, 1px, 1px);height: 1px;margin: -1px;overflow: hidden;padding: 0;position: absolute;width: 1px;}#sk-container-id-1 div.sk-estimator {font-family: monospace;background-color: #f0f8ff;border: 1px dotted black;border-radius: 0.25em;box-sizing: border-box;margin-bottom: 0.5em;}#sk-container-id-1 div.sk-estimator:hover {background-color: #d4ebff;}#sk-container-id-1 div.sk-parallel-item::after {content: \"\";width: 100%;border-bottom: 1px solid gray;flex-grow: 1;}#sk-container-id-1 div.sk-label:hover label.sk-toggleable__label {background-color: #d4ebff;}#sk-container-id-1 div.sk-serial::before {content: \"\";position: absolute;border-left: 1px solid gray;box-sizing: border-box;top: 0;bottom: 0;left: 50%;z-index: 0;}#sk-container-id-1 div.sk-serial {display: flex;flex-direction: column;align-items: center;background-color: white;padding-right: 0.2em;padding-left: 0.2em;position: relative;}#sk-container-id-1 div.sk-item {position: relative;z-index: 1;}#sk-container-id-1 div.sk-parallel {display: flex;align-items: stretch;justify-content: center;background-color: white;position: relative;}#sk-container-id-1 div.sk-item::before, #sk-container-id-1 div.sk-parallel-item::before {content: \"\";position: absolute;border-left: 1px solid gray;box-sizing: border-box;top: 0;bottom: 0;left: 50%;z-index: -1;}#sk-container-id-1 div.sk-parallel-item {display: flex;flex-direction: column;z-index: 1;position: relative;background-color: white;}#sk-container-id-1 div.sk-parallel-item:first-child::after {align-self: flex-end;width: 50%;}#sk-container-id-1 div.sk-parallel-item:last-child::after {align-self: flex-start;width: 50%;}#sk-container-id-1 div.sk-parallel-item:only-child::after {width: 0;}#sk-container-id-1 div.sk-dashed-wrapped {border: 1px dashed gray;margin: 0 0.4em 0.5em 0.4em;box-sizing: border-box;padding-bottom: 0.4em;background-color: white;}#sk-container-id-1 div.sk-label label {font-family: monospace;font-weight: bold;display: inline-block;line-height: 1.2em;}#sk-container-id-1 div.sk-label-container {text-align: center;}#sk-container-id-1 div.sk-container {/* jupyter's `normalize.less` sets `[hidden] { display: none; }` but bootstrap.min.css set `[hidden] { display: none !important; }` so we also need the `!important` here to be able to override the default hidden behavior on the sphinx rendered scikit-learn.org. See: https://github.com/scikit-learn/scikit-learn/issues/21755 */display: inline-block !important;position: relative;}#sk-container-id-1 div.sk-text-repr-fallback {display: none;}</style><div id=\"sk-container-id-1\" class=\"sk-top-container\"><div class=\"sk-text-repr-fallback\"><pre>ColumnTransformer(transformers=[(&#x27;StandardScalar&#x27;, StandardScaler(),\n",
       "                                 [&#x27;reading_score&#x27;, &#x27;writing_score&#x27;]),\n",
       "                                (&#x27;OneHotEncoder&#x27;, OneHotEncoder(),\n",
       "                                 [&#x27;gender&#x27;, &#x27;race_ethnicity&#x27;,\n",
       "                                  &#x27;parental_level_of_education&#x27;, &#x27;lunch&#x27;,\n",
       "                                  &#x27;test_preparation_course&#x27;])])</pre><b>In a Jupyter environment, please rerun this cell to show the HTML representation or trust the notebook. <br />On GitHub, the HTML representation is unable to render, please try loading this page with nbviewer.org.</b></div><div class=\"sk-container\" hidden><div class=\"sk-item sk-dashed-wrapped\"><div class=\"sk-label-container\"><div class=\"sk-label sk-toggleable\"><input class=\"sk-toggleable__control sk-hidden--visually\" id=\"sk-estimator-id-1\" type=\"checkbox\" ><label for=\"sk-estimator-id-1\" class=\"sk-toggleable__label sk-toggleable__label-arrow\">ColumnTransformer</label><div class=\"sk-toggleable__content\"><pre>ColumnTransformer(transformers=[(&#x27;StandardScalar&#x27;, StandardScaler(),\n",
       "                                 [&#x27;reading_score&#x27;, &#x27;writing_score&#x27;]),\n",
       "                                (&#x27;OneHotEncoder&#x27;, OneHotEncoder(),\n",
       "                                 [&#x27;gender&#x27;, &#x27;race_ethnicity&#x27;,\n",
       "                                  &#x27;parental_level_of_education&#x27;, &#x27;lunch&#x27;,\n",
       "                                  &#x27;test_preparation_course&#x27;])])</pre></div></div></div><div class=\"sk-parallel\"><div class=\"sk-parallel-item\"><div class=\"sk-item\"><div class=\"sk-label-container\"><div class=\"sk-label sk-toggleable\"><input class=\"sk-toggleable__control sk-hidden--visually\" id=\"sk-estimator-id-2\" type=\"checkbox\" ><label for=\"sk-estimator-id-2\" class=\"sk-toggleable__label sk-toggleable__label-arrow\">StandardScalar</label><div class=\"sk-toggleable__content\"><pre>[&#x27;reading_score&#x27;, &#x27;writing_score&#x27;]</pre></div></div></div><div class=\"sk-serial\"><div class=\"sk-item\"><div class=\"sk-estimator sk-toggleable\"><input class=\"sk-toggleable__control sk-hidden--visually\" id=\"sk-estimator-id-3\" type=\"checkbox\" ><label for=\"sk-estimator-id-3\" class=\"sk-toggleable__label sk-toggleable__label-arrow\">StandardScaler</label><div class=\"sk-toggleable__content\"><pre>StandardScaler()</pre></div></div></div></div></div></div><div class=\"sk-parallel-item\"><div class=\"sk-item\"><div class=\"sk-label-container\"><div class=\"sk-label sk-toggleable\"><input class=\"sk-toggleable__control sk-hidden--visually\" id=\"sk-estimator-id-4\" type=\"checkbox\" ><label for=\"sk-estimator-id-4\" class=\"sk-toggleable__label sk-toggleable__label-arrow\">OneHotEncoder</label><div class=\"sk-toggleable__content\"><pre>[&#x27;gender&#x27;, &#x27;race_ethnicity&#x27;, &#x27;parental_level_of_education&#x27;, &#x27;lunch&#x27;, &#x27;test_preparation_course&#x27;]</pre></div></div></div><div class=\"sk-serial\"><div class=\"sk-item\"><div class=\"sk-estimator sk-toggleable\"><input class=\"sk-toggleable__control sk-hidden--visually\" id=\"sk-estimator-id-5\" type=\"checkbox\" ><label for=\"sk-estimator-id-5\" class=\"sk-toggleable__label sk-toggleable__label-arrow\">OneHotEncoder</label><div class=\"sk-toggleable__content\"><pre>OneHotEncoder()</pre></div></div></div></div></div></div></div></div></div></div>"
      ],
      "text/plain": [
       "ColumnTransformer(transformers=[('StandardScalar', StandardScaler(),\n",
       "                                 ['reading_score', 'writing_score']),\n",
       "                                ('OneHotEncoder', OneHotEncoder(),\n",
       "                                 ['gender', 'race_ethnicity',\n",
       "                                  'parental_level_of_education', 'lunch',\n",
       "                                  'test_preparation_course'])])"
      ]
     },
     "execution_count": 25,
     "metadata": {},
     "output_type": "execute_result"
    }
   ],
   "source": [
    "processing_pipeline"
   ]
  },
  {
   "cell_type": "code",
   "execution_count": 18,
   "id": "efdcc8a6-ca8b-4cff-a576-f9bed3d6fb9e",
   "metadata": {},
   "outputs": [],
   "source": [
    "X = processing_pipeline.fit_transform(X)"
   ]
  },
  {
   "cell_type": "markdown",
   "id": "2515694c-6133-431f-8b4b-7ee9e764ede8",
   "metadata": {},
   "source": [
    "### Train Test Split"
   ]
  },
  {
   "cell_type": "code",
   "execution_count": 20,
   "id": "060feec8-70ff-4c62-8dd0-5d237fb93eb8",
   "metadata": {},
   "outputs": [
    {
     "data": {
      "text/plain": [
       "((800, 19), (800,), (200, 19), (200,))"
      ]
     },
     "execution_count": 20,
     "metadata": {},
     "output_type": "execute_result"
    }
   ],
   "source": [
    "from sklearn.model_selection import train_test_split\n",
    "\n",
    "X_train, X_test, y_train, y_test = train_test_split(X,y,random_state = 42, test_size=0.2)\n",
    "X_train.shape,y_train.shape, X_test.shape, y_test.shape"
   ]
  },
  {
   "cell_type": "markdown",
   "id": "b5cef8ca-6dd0-4f7e-825e-8b35d5414ff2",
   "metadata": {},
   "source": [
    "### Defining Evaluvator"
   ]
  },
  {
   "cell_type": "code",
   "execution_count": 22,
   "id": "ab057173-06d3-49fe-af08-cd42d2468127",
   "metadata": {},
   "outputs": [],
   "source": [
    "def get_metrics(y_true, y_pred):\n",
    "    MAE = mean_absolute_error(y_true, y_pred)\n",
    "    MSE = mean_squared_error(y_true, y_pred)\n",
    "    RMSE = np.sqrt(MSE)\n",
    "    R2 = r2_score(y_true, y_pred)\n",
    "    return MAE, MSE, RMSE, R2"
   ]
  },
  {
   "cell_type": "markdown",
   "id": "ef5da33e-6f31-4c9a-84bb-2ae2906a140a",
   "metadata": {},
   "source": [
    "### Defining Model Gardern"
   ]
  },
  {
   "cell_type": "code",
   "execution_count": 60,
   "id": "b134178a-6b99-4533-95e0-7a2c0d71ef6a",
   "metadata": {},
   "outputs": [],
   "source": [
    "models = {\n",
    "    \"Lasso\":Lasso(),\n",
    "    \"Ridge\":Ridge(),\n",
    "    \"Linear\":LinearRegression(),\n",
    "    \"KNN Regressor\":KNeighborsRegressor(),\n",
    "    \"Decision Tree Regressor\":DecisionTreeRegressor(),\n",
    "    \"Random Forest Regressor\":RandomForestRegressor(),\n",
    "    \"AdaBoost Regressor\": AdaBoostRegressor(),\n",
    "    \"GradientBoost Regressor\":GradientBoostingRegressor(verbose=0),\n",
    "    \"CatBoost Regressor\":CatBoostRegressor(verbose=0),\n",
    "    \"XGBoost Regresssor\":XGBRegressor()\n",
    "}\n",
    "\n",
    "model_list = []\n",
    "r2_list = []"
   ]
  },
  {
   "cell_type": "code",
   "execution_count": 61,
   "id": "9b875f15-c493-4a87-88a8-002e95066cf6",
   "metadata": {},
   "outputs": [
    {
     "name": "stdout",
     "output_type": "stream",
     "text": [
      "Model Name :  Lasso\n",
      "Mean Absolute Error : 5.157879138921816\n",
      "Mean Square Error : 42.50633235127344\n",
      "Root Mean Square Error : 6.519688056285626\n",
      "R2 Square : 0.825320079562973\n",
      "----------------------------\n",
      "\n",
      "Model Name :  Ridge\n",
      "Mean Absolute Error : 4.211100688014259\n",
      "Mean Square Error : 29.05627219234827\n",
      "Root Mean Square Error : 5.3903870169356365\n",
      "R2 Square : 0.880593148502874\n",
      "----------------------------\n",
      "\n",
      "Model Name :  Linear\n",
      "Mean Absolute Error : 4.214763142474852\n",
      "Mean Square Error : 29.095169866715494\n",
      "Root Mean Square Error : 5.393993869732843\n",
      "R2 Square : 0.8804332983749564\n",
      "----------------------------\n",
      "\n",
      "Model Name :  KNN Regressor\n",
      "Mean Absolute Error : 5.619\n",
      "Mean Square Error : 52.617\n",
      "Root Mean Square Error : 7.253757646902741\n",
      "R2 Square : 0.7837702557426202\n",
      "----------------------------\n",
      "\n",
      "Model Name :  Decision Tree Regressor\n",
      "Mean Absolute Error : 6.455\n",
      "Mean Square Error : 65.705\n",
      "Root Mean Square Error : 8.10586207630009\n",
      "R2 Square : 0.7299850742833848\n",
      "----------------------------\n",
      "\n",
      "Model Name :  Random Forest Regressor\n",
      "Mean Absolute Error : 4.6489875000000005\n",
      "Mean Square Error : 36.36141972569445\n",
      "Root Mean Square Error : 6.030043094845546\n",
      "R2 Square : 0.8505726193412365\n",
      "----------------------------\n",
      "\n",
      "Model Name :  AdaBoost Regressor\n",
      "Mean Absolute Error : 4.774914890106257\n",
      "Mean Square Error : 37.661261223010534\n",
      "Root Mean Square Error : 6.136877155606957\n",
      "R2 Square : 0.8452309161932086\n",
      "----------------------------\n",
      "\n",
      "Model Name :  GradientBoost Regressor\n",
      "Mean Absolute Error : 4.313252768064731\n",
      "Mean Square Error : 31.12305344180968\n",
      "Root Mean Square Error : 5.578803943661193\n",
      "R2 Square : 0.8720997037795528\n",
      "----------------------------\n",
      "\n",
      "Model Name :  CatBoost Regressor\n",
      "Mean Absolute Error : 4.612531714976557\n",
      "Mean Square Error : 36.10365799356841\n",
      "Root Mean Square Error : 6.008631956907363\n",
      "R2 Square : 0.8516318920747058\n",
      "----------------------------\n",
      "\n",
      "Model Name :  XGBoost Regresssor\n",
      "Mean Absolute Error : 5.103629446029663\n",
      "Mean Square Error : 43.50391987982302\n",
      "Root Mean Square Error : 6.595750137764697\n",
      "R2 Square : 0.8212204901494256\n",
      "----------------------------\n",
      "\n"
     ]
    }
   ],
   "source": [
    "for Model in models.items():\n",
    "    print(\"Model Name : \",Model[0])\n",
    "\n",
    "    model = Model[1]\n",
    "    model.fit(X_train, y_train)\n",
    "    y_pred= model.predict(X_test)\n",
    "\n",
    "    MAE,MSE,RMSE,R2 = get_metrics(y_test,y_pred)\n",
    "\n",
    "    print(\"Mean Absolute Error :\",MAE)\n",
    "    print(\"Mean Square Error :\",MSE)\n",
    "    print(\"Root Mean Square Error :\",RMSE)\n",
    "    print(\"R2 Square :\",R2)\n",
    "\n",
    "    r2_list.append(R2)\n",
    "    model_list.append(Model[0])\n",
    "    \n",
    "    print(\"----------------------------\\n\")"
   ]
  },
  {
   "cell_type": "markdown",
   "id": "91c35e90-666c-4cb7-b1e0-2eebe930affb",
   "metadata": {},
   "source": [
    "#### Plotting r2 Values"
   ]
  },
  {
   "cell_type": "code",
   "execution_count": 68,
   "id": "1801e34a-6407-4b59-b083-670a8dfbb9c6",
   "metadata": {},
   "outputs": [
    {
     "data": {
      "image/png": "[encoded data removed]",
      "text/plain": [
       "<Figure size 720x360 with 1 Axes>"
      ]
     },
     "metadata": {
      "needs_background": "light"
     },
     "output_type": "display_data"
    }
   ],
   "source": [
    "assert len(model_list)==len(r2_list)\n",
    "\n",
    "plt.figure(figsize=(10,5))\n",
    "sns.barplot(y = model_list,x=r2_list,palette='pastel')\n",
    "plt.show()"
   ]
  },
  {
   "cell_type": "markdown",
   "id": "2404f24f-1417-4609-84e6-be971cd02f55",
   "metadata": {},
   "source": [
    "### Model Training"
   ]
  },
  {
   "cell_type": "code",
   "execution_count": 69,
   "id": "8319d65a-712b-4e6a-9b1b-7237ae341f1c",
   "metadata": {},
   "outputs": [],
   "source": [
    "xgbr = XGBRegressor()\n",
    "xgbr.fit(X_train,y_train)\n",
    "y_pred = xgbr.predict(X_test)"
   ]
  },
  {
   "cell_type": "code",
   "execution_count": 70,
   "id": "2de63cef-9cc7-4e06-8328-02f0a9e317fb",
   "metadata": {},
   "outputs": [
    {
     "name": "stdout",
     "output_type": "stream",
     "text": [
      "Mean Absolute Error : 5.103629446029663\n",
      "Mean Square Error : 43.50391987982302\n",
      "Root Mean Square Error : 6.595750137764697\n",
      "R2 Square : 0.8212204901494256\n"
     ]
    }
   ],
   "source": [
    "MAE,MSE,RMSE,R2 = get_metrics(y_test,y_pred)\n",
    "\n",
    "print(\"Mean Absolute Error :\",MAE)\n",
    "print(\"Mean Square Error :\",MSE)\n",
    "print(\"Root Mean Square Error :\",RMSE)\n",
    "print(\"R2 Square :\",R2)"
   ]
  },
  {
   "cell_type": "code",
   "execution_count": 78,
   "id": "2da33154-4ae5-436f-a0af-600a4eafe1b6",
   "metadata": {},
   "outputs": [
    {
     "data": {
      "image/png": "[encoded data removed]",
      "text/plain": [
       "<Figure size 720x360 with 1 Axes>"
      ]
     },
     "metadata": {
      "needs_background": "light"
     },
     "output_type": "display_data"
    }
   ],
   "source": [
    "plt.figure(figsize=(10,5))\n",
    "sns.regplot(x=y_pred,y=y_test,ci=None)\n",
    "plt.show()"
   ]
  },
  {
   "cell_type": "code",
   "execution_count": null,
   "id": "5d56c8da-41cd-4e40-b096-4e303e18dd03",
   "metadata": {},
   "outputs": [],
   "source": []
  }
 ],
 "metadata": {
  "kernelspec": {
   "display_name": "Python 3 (ipykernel)",
   "language": "python",
   "name": "python3"
  },
  "language_info": {
   "codemirror_mode": {
    "name": "ipython",
    "version": 3
   },
   "file_extension": ".py",
   "mimetype": "text/x-python",
   "name": "python",
   "nbconvert_exporter": "python",
   "pygments_lexer": "ipython3",
   "version": "3.10.12"
  }
 },
 "nbformat": 4,
 "nbformat_minor": 5
}
